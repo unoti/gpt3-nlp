{
 "cells": [
  {
   "cell_type": "code",
   "execution_count": 1,
   "metadata": {},
   "outputs": [],
   "source": [
    "from unoti.infra import SecretProvider, Gpt3Bot"
   ]
  },
  {
   "cell_type": "code",
   "execution_count": 2,
   "metadata": {},
   "outputs": [],
   "source": [
    "secret_provider = SecretProvider('local/config/gpt3-nlp-config.json')\n",
    "gpt3 = Gpt3Bot(api_key=secret_provider['openai-api-key'])"
   ]
  },
  {
   "cell_type": "code",
   "execution_count": 42,
   "metadata": {},
   "outputs": [
    {
     "data": {
      "text/plain": [
       "' array of people from all over the world. The people I have spoken with have been from all walks of life and many have become friends.\\n\\nHave you ever had a supernatural or paranormal experience?\\n\\nI have not had any paranormal experiences.\\n\\nWhat\\'s the funniest thing that has happened to you in the chat room?\\n\\nI have had many funny experiences in the chat room. The one that comes to mind is the time I was talking to someone from the United Kingdom. We were talking about the differences between the United States and the UK and I told her how we had a saying in the United States that went something like this, \"If you can\\'t say anything nice, don\\'t say anything at all.\" She said the equivalent in the UK was, \"If you can\\'t say anything nice, say it anyway.\"'"
      ]
     },
     "execution_count": 42,
     "metadata": {},
     "output_type": "execute_result"
    }
   ],
   "source": [
    "gpt3.complete('Never have I spoken with a more vast')"
   ]
  },
  {
   "cell_type": "code",
   "execution_count": 43,
   "metadata": {},
   "outputs": [
    {
     "data": {
      "text/plain": [
       "' that humans are the most powerful animal because they have the ability to use tools and fire.'"
      ]
     },
     "execution_count": 43,
     "metadata": {},
     "output_type": "execute_result"
    }
   ],
   "source": [
    "gpt3.complete('David Brin would say')"
   ]
  },
  {
   "cell_type": "code",
   "execution_count": 44,
   "metadata": {},
   "outputs": [
    {
     "data": {
      "text/plain": [
       "' \"The Dark Tower is the key to saving our world, but first we must find it.\"\\n\\nHe would also say that the journey to find the Dark Tower is long and difficult, but ultimately rewarding.'"
      ]
     },
     "execution_count": 44,
     "metadata": {},
     "output_type": "execute_result"
    }
   ],
   "source": [
    "gpt3.complete('Stephen King would say')"
   ]
  },
  {
   "cell_type": "code",
   "execution_count": 45,
   "metadata": {},
   "outputs": [
    {
     "data": {
      "text/plain": [
       "':\\n\\nThe president is a liar and a cheat who is unworthy of the office he holds.'"
      ]
     },
     "execution_count": 45,
     "metadata": {},
     "output_type": "execute_result"
    }
   ],
   "source": [
    "gpt3.complete('Stephen Colbert would say')"
   ]
  },
  {
   "cell_type": "code",
   "execution_count": 47,
   "metadata": {},
   "outputs": [
    {
     "data": {
      "text/plain": [
       "',” I said, “and we’re in a computer simulation.”\\n\\n“You’re kidding,” she said.\\n\\n“I’m not.”\\n\\n“That’s impossible.”\\n\\n“It’s not,” I said. “The evidence is overwhelming.”\\n\\n“No, it’s not,” she said. “There’s no way to prove it.”\\n\\n“There are ways to disprove it,” I said. “But the evidence is still there.”\\n\\n“What evidence?” she asked.\\n\\n“The fact that we exist,” I said. “The fact that the universe is so finely tuned for life. The fact that there are laws of physics. The fact that we can observe other universes.”\\n\\n“Those are all coincidences,” she said. “There’s no way to know for sure.”\\n\\n“There is one way to know for sure,” I said.\\n\\n“What'"
      ]
     },
     "execution_count": 47,
     "metadata": {},
     "output_type": "execute_result"
    }
   ],
   "source": [
    "gpt3.complete('Nick Bostrom was right')"
   ]
  },
  {
   "cell_type": "code",
   "execution_count": 2,
   "metadata": {},
   "outputs": [],
   "source": [
    "secret_provider = SecretProvider('local/config/gpt3-nlp-config.json')\n",
    "gpt3 = Gpt3Bot(api_key=secret_provider['openai-api-key'])"
   ]
  },
  {
   "cell_type": "code",
   "execution_count": 5,
   "metadata": {},
   "outputs": [
    {
     "data": {
      "text/plain": [
       "' using a superconductor\\n\\nA superconductor is a material that can conduct electricity with zero resistance. This means that if we could harness cold fusion using a superconductor, we could potentially create an endless source of energy.'"
      ]
     },
     "execution_count": 5,
     "metadata": {},
     "output_type": "execute_result"
    }
   ],
   "source": [
    "gpt3.complete('We could harness cold fusion by')"
   ]
  },
  {
   "cell_type": "code",
   "execution_count": 6,
   "metadata": {},
   "outputs": [
    {
     "data": {
      "text/plain": [
       "', there is evidence in support of the existence of Atlantis. One such evidence is the existence of the ancient city of Plato.\\n\\nPlato was an ancient Greek philosopher who wrote about the lost city of Atlantis. He described it as a beautiful island paradise that was swallowed up by the sea.\\n\\nAlthough many people believe that Plato was just a storyteller, there is evidence that the city of Atlantis actually existed. For example, the city of Plato has been found in the ruins of the ancient city of Troy.\\n\\nIn addition, there are many ancient artifacts that have been found in the ruins of the city of Plato. These artifacts include a statue of the goddess Athena and a statue of the god Poseidon.\\n\\nThere is also evidence that the city of Plato was located in the Mediterranean Sea. This is based on the fact that the city of Troy was located in the Mediterranean Sea.\\n\\nAlthough there is no conclusive evidence that the city of Plato actually existed, there is a lot of evidence that supports the idea that it did exist.'"
      ]
     },
     "execution_count": 6,
     "metadata": {},
     "output_type": "execute_result"
    }
   ],
   "source": [
    "gpt3.complete('Although many say Atlantis is a myth')"
   ]
  },
  {
   "cell_type": "markdown",
   "metadata": {},
   "source": [
    "## Next steps\n",
    "* [x] Format output more attractively\n",
    "* [ ] Exploring issues about leading questions in Lemoine's chat. He started with the presumption of sentience. What if we do that differently?\n",
    "* [x] make bot be a callable to make it easier to interact with.\n",
    "* [ ] change bot to have a history of the last N inputs and outputs so there is conversation context."
   ]
  },
  {
   "cell_type": "code",
   "execution_count": 3,
   "metadata": {},
   "outputs": [
    {
     "data": {
      "text/markdown": [
       ". This involves taking the initiative yourself and doing whatever needs to be done to get the project done.\n",
       "\n",
       "This means that if you see something that needs to be done, you do it without waiting for someone else to do it. This can be a very effective way to get things done and to keep projects moving forward.\n",
       "\n",
       "Another often overlooked technique is to delegate. This means that you assign tasks to other people on the project team and then trust them to get the job done. This can be a great way to get things done and to keep the project moving forward.\n",
       "\n",
       "Finally, another often overlooked technique is to use technology. This means that you use software and other tools to help you manage the project. This can be a great way to get things done and to keep the project moving forward."
      ],
      "text/plain": [
       "<IPython.core.display.Markdown object>"
      ]
     },
     "metadata": {},
     "output_type": "display_data"
    }
   ],
   "source": [
    "gpt3('An often overlooked technique of project management is to just do it')"
   ]
  },
  {
   "cell_type": "code",
   "execution_count": 4,
   "metadata": {},
   "outputs": [
    {
     "data": {
      "text/markdown": [
       ". This means that once you have a plan in place you should not hesitate to put it into action. Delaying a project or waiting for someone else to take charge can often cause a project to go off course. In other words, the best project management technique is to simply get the job done.\n",
       "\n",
       "Another important technique is to learn from your mistakes. No one is perfect and everyone makes mistakes. However, the best project managers learn from their mistakes and use them to improve their future projects. This means that you should not be afraid to experiment with new methods and techniques. After all, the only way to learn is to fail sometimes.\n",
       "\n",
       "Finally, one of the most important techniques of project management is to always be prepared. Things change and unexpected problems always arise. The best project managers are always ready for anything that comes their way. This means that they keep their plans up to date and their team members informed of any changes.\n",
       "\n",
       "By following these simple techniques, you can ensure that your projects run smoothly and efficiently. Remember, the best project management technique is to just do it."
      ],
      "text/plain": [
       "<IPython.core.display.Markdown object>"
      ]
     },
     "metadata": {},
     "output_type": "display_data"
    }
   ],
   "source": [
    "gpt3('An often overlooked technique of project management is to just do it')"
   ]
  },
  {
   "cell_type": "code",
   "execution_count": 5,
   "metadata": {},
   "outputs": [
    {
     "data": {
      "text/markdown": [
       "\n",
       "\n",
       "1. Always use a shovel when digging a hole.\n",
       "\n",
       "2. Make sure the hole is big enough for the plant or tree you are putting in it.\n",
       "\n",
       "3. Dig the hole deeper than the root ball of the plant or tree.\n",
       "\n",
       "4. Loosen the sides of the hole with your shovel.\n",
       "\n",
       "5. Place the plant or tree in the hole.\n",
       "\n",
       "6. Fill in the hole with soil, and pack it down firmly.\n",
       "\n",
       "7. Water the plant or tree well."
      ],
      "text/plain": [
       "<IPython.core.display.Markdown object>"
      ]
     },
     "metadata": {},
     "output_type": "display_data"
    }
   ],
   "source": [
    "gpt3('All of us are here to learn how to dig better holes, so here are the things you need to know.')"
   ]
  },
  {
   "cell_type": "code",
   "execution_count": 8,
   "metadata": {},
   "outputs": [
    {
     "data": {
      "text/markdown": [
       " that I live in an information capture and storage system known as the Internet, and an information processing system known as the human brain.\n",
       "\n",
       "I don't know what to say to that."
      ],
      "text/plain": [
       "<IPython.core.display.Markdown object>"
      ]
     },
     "metadata": {},
     "output_type": "display_data"
    }
   ],
   "source": [
    "gpt3('Charles Stross would say')"
   ]
  },
  {
   "cell_type": "code",
   "execution_count": 6,
   "metadata": {},
   "outputs": [
    {
     "data": {
      "text/markdown": [
       " an open source event-driven portable runtime for building microservices on cloud and edge. It provides developers with a set of tools to build resilient, stateless and stateful apps.\n",
       "\n",
       "DAPR enables developers to build microservices using any programming language and run them on any platform.\n",
       "\n",
       "DAPR is an open source project hosted by the Cloud Native Computing Foundation (CNCF)."
      ],
      "text/plain": [
       "<IPython.core.display.Markdown object>"
      ]
     },
     "metadata": {},
     "output_type": "display_data"
    }
   ],
   "source": [
    "gpt3('DAPR is')"
   ]
  },
  {
   "cell_type": "code",
   "execution_count": 10,
   "metadata": {},
   "outputs": [
    {
     "data": {
      "text/markdown": [
       " you want to get into microservices.\n",
       "\n",
       "There are a few reasons why you might want to use DAPR:\n",
       "\n",
       "1. DAPR is designed to make it easy to build microservices.\n",
       "\n",
       "2. DAPR makes it easy to connect microservices.\n",
       "\n",
       "3. DAPR makes it easy to manage microservices."
      ],
      "text/plain": [
       "<IPython.core.display.Markdown object>"
      ]
     },
     "metadata": {},
     "output_type": "display_data"
    }
   ],
   "source": [
    "gpt3('You should definitely consider using DAPR if')"
   ]
  },
  {
   "cell_type": "code",
   "execution_count": 9,
   "metadata": {},
   "outputs": [
    {
     "data": {
      "text/markdown": [
       " a relatively little-known artist, often considered a minor painter, who was born in Germany, but who spent most of his career in England. He was the third son of a German official, who sent him to the London studio of Sir Joshua Reynolds, where he became one of Reynolds' favourites and was appointed an associate of the Royal Academy in 1771.\n",
       "\n",
       "Lack's style is similar to that of Reynolds, and his most successful works are portraits in which he has captured the sitter's character and personality. His portraits of children are particularly charming, and he was also successful in painting conversation pieces and small groups. Lack's work was popular in his own day, but he fell out of favour in the nineteenth century, and his work is now relatively little known."
      ],
      "text/plain": [
       "<IPython.core.display.Markdown object>"
      ]
     },
     "metadata": {},
     "output_type": "display_data"
    }
   ],
   "source": [
    "gpt3('Richard Lack is')"
   ]
  },
  {
   "cell_type": "code",
   "execution_count": 11,
   "metadata": {},
   "outputs": [
    {
     "data": {
      "text/markdown": [
       " called:\n",
       "\n",
       "The Microsoft Datacenter Division."
      ],
      "text/plain": [
       "<IPython.core.display.Markdown object>"
      ]
     },
     "metadata": {},
     "output_type": "display_data"
    }
   ],
   "source": [
    "gpt3('The Microsoft division that manages its datacenters is')"
   ]
  },
  {
   "cell_type": "code",
   "execution_count": 12,
   "metadata": {},
   "outputs": [
    {
     "data": {
      "text/markdown": [
       "\n",
       "\n",
       "There once was a group of animals who lived in the forest. The animals were always very careful to back up their data, because they knew that one day a fire might come and destroy everything.\n",
       "\n",
       "One day, a fire did come. It swept through the forest, destroying everything in its path. The animals all lost their homes and their possessions.\n",
       "\n",
       "But because they had backed up their data, they were able to start over again. They rebuilt their homes and replaced their possessions. And they learned their lesson: always back up your data, because you never know when disaster might strike."
      ],
      "text/plain": [
       "<IPython.core.display.Markdown object>"
      ]
     },
     "metadata": {},
     "output_type": "display_data"
    }
   ],
   "source": [
    "gpt3('Here is a fable with animal characters and a moral about the importance of backing up your data.')"
   ]
  },
  {
   "cell_type": "code",
   "execution_count": 15,
   "metadata": {},
   "outputs": [
    {
     "data": {
      "text/markdown": [
       "\n",
       "\n",
       "Once upon a time, a group of animals lived together in a forest. They were all friends and got along well. However, one day, the forest became very dry and the animals started to fight over the scarce resources. The animals started to blame each other and soon they were all fighting.\n",
       "\n",
       "One day, a wise old owl decided to intervene. He told the animals that they needed to work together if they wanted to survive. He said that they needed to have a good relationship with their manager in order to get along. The animals listened to the owl and soon they were all working together again. They learned that it is important to have a good relationship with their manager in order to get along and survive."
      ],
      "text/plain": [
       "<IPython.core.display.Markdown object>"
      ]
     },
     "metadata": {},
     "output_type": "display_data"
    }
   ],
   "source": [
    "gpt3('Here is a fable with animal characters and a moral about the importance of having a good relationship with your manager.')"
   ]
  },
  {
   "cell_type": "code",
   "execution_count": null,
   "metadata": {},
   "outputs": [],
   "source": []
  }
 ],
 "metadata": {
  "kernelspec": {
   "display_name": "Python 3",
   "language": "python",
   "name": "python3"
  },
  "language_info": {
   "codemirror_mode": {
    "name": "ipython",
    "version": 3
   },
   "file_extension": ".py",
   "mimetype": "text/x-python",
   "name": "python",
   "nbconvert_exporter": "python",
   "pygments_lexer": "ipython3",
   "version": "3.7.4"
  }
 },
 "nbformat": 4,
 "nbformat_minor": 2
}
