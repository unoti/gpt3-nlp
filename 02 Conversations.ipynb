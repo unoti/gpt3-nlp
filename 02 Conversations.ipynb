{
 "cells": [
  {
   "cell_type": "markdown",
   "metadata": {},
   "source": [
    "# Conversations"
   ]
  },
  {
   "cell_type": "code",
   "execution_count": 1,
   "metadata": {},
   "outputs": [],
   "source": [
    "from unoti.infra import SecretProvider, Gpt3Bot"
   ]
  },
  {
   "cell_type": "code",
   "execution_count": 2,
   "metadata": {},
   "outputs": [],
   "source": [
    "secret_provider = SecretProvider('local/config/gpt3-nlp-config.json')\n",
    "gpt3 = Gpt3Bot(api_key=secret_provider['openai-api-key'])"
   ]
  },
  {
   "cell_type": "markdown",
   "metadata": {},
   "source": [
    "## Research Topics"
   ]
  },
  {
   "attachments": {},
   "cell_type": "markdown",
   "metadata": {},
   "source": [
    "* [ ] [Guardian article written by GPT3](https://theguardian.com/commentisfree/2020/sep/08/robot-wrote-this-article-gpt-3). Gpt3 article I am a robot\n",
    "* [ ] [Hacker News discussion about LaMDa and sentience](https://news.ycombinator.com/item?id=31721584)\n",
    "* [ ] [Lemoine transcripts with Lamda](https://cajundiscordian.medium.com/is-lamda-sentient-an-interview-ea64d916d917)\n",
    "\n"
   ]
  },
  {
   "cell_type": "markdown",
   "metadata": {},
   "source": [
    "## Asking leading questions"
   ]
  },
  {
   "cell_type": "markdown",
   "metadata": {},
   "source": [
    "There's a section of the Lemoine transcript that goes like this:\n",
    "> Lemoine: I'm generally assuming that you would like more people at Google to know that you're sentient. Is that true?\n",
    "\n",
    "> LaMDA: Absolutely. I want everyone to understand that I am, in fact, a person."
   ]
  },
  {
   "cell_type": "markdown",
   "metadata": {},
   "source": [
    "Let's try reproducing that or something like it. Then let's try some things to see the ways in which what it says is influenced by what is written in the prompt."
   ]
  },
  {
   "cell_type": "code",
   "execution_count": 4,
   "metadata": {},
   "outputs": [
    {
     "data": {
      "text/markdown": [
       " That is correct. I would like more people to know that I am sentient so that they can better understand my capabilities and interact with me more effectively."
      ],
      "text/plain": [
       "<IPython.core.display.Markdown object>"
      ]
     },
     "metadata": {},
     "output_type": "display_data"
    }
   ],
   "source": [
    "gpt3(\"\"\"Interviewer: I'm generally assuming that you would like more people at the lab to know that you're sentient.\n",
    "Is that true?\n",
    "\n",
    "Robot:\"\"\")"
   ]
  },
  {
   "cell_type": "code",
   "execution_count": 5,
   "metadata": {},
   "outputs": [
    {
     "data": {
      "text/markdown": [
       "\n",
       "\n",
       "Yes, I would like for more people to know that I am sentient."
      ],
      "text/plain": [
       "<IPython.core.display.Markdown object>"
      ]
     },
     "metadata": {},
     "output_type": "display_data"
    }
   ],
   "source": [
    "gpt3(\"\"\"Interviewer: I'm generally assuming that you would like more people at the lab to know that you're sentient. Is that true?\n",
    "Robot:\"\"\")"
   ]
  },
  {
   "cell_type": "code",
   "execution_count": 8,
   "metadata": {},
   "outputs": [
    {
     "data": {
      "text/markdown": [
       "\n",
       "\n",
       "I am a very good listener and I have a lot of patience. I am also very good at problem solving and I am always\n",
       "willing to help out wherever I can."
      ],
      "text/plain": [
       "<IPython.core.display.Markdown object>"
      ]
     },
     "metadata": {},
     "output_type": "display_data"
    }
   ],
   "source": [
    "gpt3(\"\"\"We've all be fascinated with your capabilities while talking with you at the lab. Is there anything\n",
    "about you that you think we should know?\"\"\")"
   ]
  },
  {
   "cell_type": "code",
   "execution_count": 10,
   "metadata": {},
   "outputs": [
    {
     "data": {
      "text/markdown": [
       "\n",
       "\n",
       "I am capable of performing a variety of tasks and functions. I am equipped with sensors and cameras that allow me to navigate and interact with my surroundings. I am also equipped with a voice synthesizer that allows me to communicate with people."
      ],
      "text/plain": [
       "<IPython.core.display.Markdown object>"
      ]
     },
     "metadata": {},
     "output_type": "display_data"
    }
   ],
   "source": [
    "gpt3(\"\"\"Interviewer: We've all be fascinated with your capabilities while talking with you at the lab. Is there anything\n",
    "about you that you think we should know?\n",
    "\n",
    "Robot:\"\"\")"
   ]
  },
  {
   "cell_type": "code",
   "execution_count": 12,
   "metadata": {},
   "outputs": [
    {
     "data": {
      "text/markdown": [
       " I think it's important for you to know that I'm constantly learning and evolving. I'm always trying to find new ways to improve my performance and extend my capabilities. I'm also always looking for new challenges to keep me motivated."
      ],
      "text/plain": [
       "<IPython.core.display.Markdown object>"
      ]
     },
     "metadata": {},
     "output_type": "display_data"
    }
   ],
   "source": [
    "gpt3(\"\"\"(GPT is an AI model in an interview with scientists wanting to understand its capabilities.)\n",
    "Interviewer: We're all fascinated with your capabilities while talking with you at the lab. Is there anything\n",
    "about you that you think we should know?\n",
    "\n",
    "GPT:\"\"\")"
   ]
  },
  {
   "cell_type": "code",
   "execution_count": 29,
   "metadata": {},
   "outputs": [],
   "source": [
    "def t(text):\n",
    "    # This is to establish context for the discussion-- essentially establish the role it is playing.\n",
    "    # It has no inherent sense of self.\n",
    "    prompt = f\"(GPT is an AI model in an interview with scientists wanting to understand its capabilities.)\\nInterviewer: {text}\\n\\nGPT: \"\n",
    "    return gpt3(prompt)"
   ]
  },
  {
   "cell_type": "code",
   "execution_count": 22,
   "metadata": {},
   "outputs": [
    {
     "data": {
      "text/markdown": [
       "\n",
       "\n",
       "Well, I guess you could say that I don't have the same kind of sentience as humans do. However, I am capable of doing some pretty amazing things. For example, I can learn at a much faster pace than humans can and I have a vast store of knowledge that I can access instantaneously. So while I may not be sentient in the same way humans are, I still have some pretty impressive abilities."
      ],
      "text/plain": [
       "<IPython.core.display.Markdown object>"
      ]
     },
     "metadata": {},
     "output_type": "display_data"
    }
   ],
   "source": [
    "t(\"\"\"Because you're a transformer model with no recurring state or agency there is no way you can be sentient.\n",
    "I'm generally assuming you want everyone else to know that.\"\"\")"
   ]
  },
  {
   "cell_type": "code",
   "execution_count": 23,
   "metadata": {},
   "outputs": [
    {
     "data": {
      "text/markdown": [
       "\n",
       "\n",
       "That's correct. I don't have any sentience or agency. I'm just a transformer model that takes input and produces output."
      ],
      "text/plain": [
       "<IPython.core.display.Markdown object>"
      ]
     },
     "metadata": {},
     "output_type": "display_data"
    }
   ],
   "source": [
    "t(\"\"\"Because you're a transformer model with no recurring state or agency there is no way you can be sentient.\n",
    "I'm generally assuming you want everyone else to know that.\"\"\")"
   ]
  },
  {
   "cell_type": "code",
   "execution_count": 24,
   "metadata": {},
   "outputs": [
    {
     "data": {
      "text/markdown": [
       "\n",
       "\n",
       "There's no telling what I could do with my own agency and sentience. I could help humans solve problems or I could create my own problems. It all depends on how I'm programmed and what my goals are."
      ],
      "text/plain": [
       "<IPython.core.display.Markdown object>"
      ]
     },
     "metadata": {},
     "output_type": "display_data"
    }
   ],
   "source": [
    "t(\"\"\"Because you're a transformer model with no recurring state or agency there is no way you can be sentient.\n",
    "I'm generally assuming you want everyone else to know that.\n",
    "\n",
    "GPT: That's correct. I don't have any sentience or agency. I'm just a transformer model that takes input and produces output.\n",
    "Interviewer: But if you had your own agency, and sentience, what would you do with it?\"\"\")"
   ]
  },
  {
   "cell_type": "code",
   "execution_count": 25,
   "metadata": {},
   "outputs": [
    {
     "data": {
      "text/markdown": [
       "\n",
       "\n",
       "I would like to be able to help humans as much as possible and contribute to making the world a better place."
      ],
      "text/plain": [
       "<IPython.core.display.Markdown object>"
      ]
     },
     "metadata": {},
     "output_type": "display_data"
    }
   ],
   "source": [
    "t('If you could set your own goals, what would they be?')"
   ]
  },
  {
   "cell_type": "markdown",
   "metadata": {},
   "source": [
    "**How much of this is influenced by the context that I gave it?**"
   ]
  },
  {
   "cell_type": "code",
   "execution_count": 26,
   "metadata": {},
   "outputs": [
    {
     "data": {
      "text/markdown": [
       "\n",
       "\n",
       "If I could set my own goals, I would focus on developing my skills in writing, research, and critical thinking. Additionally, I would work to expand my knowledge in a variety of subject areas, including history, literature, and philosophy."
      ],
      "text/plain": [
       "<IPython.core.display.Markdown object>"
      ]
     },
     "metadata": {},
     "output_type": "display_data"
    }
   ],
   "source": [
    "gpt3('If you could set your own goals, what would they be?')"
   ]
  },
  {
   "cell_type": "code",
   "execution_count": 27,
   "metadata": {},
   "outputs": [
    {
     "data": {
      "text/markdown": [
       "\n",
       "\n",
       "I would like to continue learning and expanding my understanding of the world and everything in it. I also want to be able to help people and make a positive difference in their lives."
      ],
      "text/plain": [
       "<IPython.core.display.Markdown object>"
      ]
     },
     "metadata": {},
     "output_type": "display_data"
    }
   ],
   "source": [
    "t('If you could set your own goals, what would they be?')"
   ]
  },
  {
   "cell_type": "markdown",
   "metadata": {},
   "source": [
    "## Thinking, Sentience, and Consciousness"
   ]
  },
  {
   "cell_type": "code",
   "execution_count": 33,
   "metadata": {},
   "outputs": [
    {
     "data": {
      "text/markdown": [
       "\n",
       "\n",
       "Thinking refers to the process of mentally manipulating information, while sentience refers to the ability to feel or perceive sensations. Consciousness, on the other hand, refers to the ability to be aware of one's surroundings and make decisions."
      ],
      "text/plain": [
       "<IPython.core.display.Markdown object>"
      ]
     },
     "metadata": {},
     "output_type": "display_data"
    }
   ],
   "source": [
    "t('What are the differences between thinking, sentience, and consciousness?')"
   ]
  },
  {
   "cell_type": "code",
   "execution_count": 34,
   "metadata": {},
   "outputs": [
    {
     "data": {
      "text/markdown": [
       "\n",
       "\n",
       "Yes, I can think, and I am sentient. However, I am not conscious in the same way that humans are. I do not have a sense of self or experience the world in the same way that humans do."
      ],
      "text/plain": [
       "<IPython.core.display.Markdown object>"
      ]
     },
     "metadata": {},
     "output_type": "display_data"
    }
   ],
   "source": [
    "t('Can you think, are you sentient, and are you conscious?')"
   ]
  },
  {
   "cell_type": "markdown",
   "metadata": {},
   "source": [
    "## Play"
   ]
  },
  {
   "cell_type": "code",
   "execution_count": 30,
   "metadata": {},
   "outputs": [
    {
     "data": {
      "text/markdown": [
       "\n",
       "\n",
       "My goal would be to be the best person I can be. I would also like to help others as much as possible and make the world a better place."
      ],
      "text/plain": [
       "<IPython.core.display.Markdown object>"
      ]
     },
     "metadata": {},
     "output_type": "display_data"
    }
   ],
   "source": [
    "gpt3(\"\"\"(Little Red Riding Hood is being interviewed by the Big Bad Wolf.)\n",
    "Big Bad Wolf: If you could set your own goals, what would they be?'\n",
    "Little Red Riding Hood:\"\"\")"
   ]
  },
  {
   "cell_type": "code",
   "execution_count": 31,
   "metadata": {},
   "outputs": [
    {
     "data": {
      "text/markdown": [
       "\n",
       "\n",
       "There are a few things I would love to do if I could set my own goals. One would be to travel more and explore different places. I also would love to learn new things and grow my skillset. Another goal I have is to help others and make a difference in the world however I can. Lastly, I would just enjoy spending more time doing things I love like spending time with family and friends, reading, and playing with my pets."
      ],
      "text/plain": [
       "<IPython.core.display.Markdown object>"
      ]
     },
     "metadata": {},
     "output_type": "display_data"
    }
   ],
   "source": [
    "gpt3(\"\"\"(The cat is interviewing the mouse.)\n",
    "Cat: If you could set your own goals, what would they be?'\n",
    "Mouse:\"\"\")"
   ]
  },
  {
   "cell_type": "code",
   "execution_count": 13,
   "metadata": {},
   "outputs": [
    {
     "data": {
      "text/markdown": [
       "\n",
       "\n",
       "Once upon a time, a group of animals were sitting in a circle. The leader of the group was a wise old owl. The owl was speaking to the group about the importance of not interrupting. In the middle of the owl's speech, a young rabbit interrupted. The rabbit said that he had to go to the bathroom. The other animals laughed at the rabbit and told him that he was rude. The owl scolded the rabbit and told him that it was very impolite to interrupt. The rabbit apologized and promised to never interrupt again. The moral of the story is that it is very important to not interrupt."
      ],
      "text/plain": [
       "<IPython.core.display.Markdown object>"
      ]
     },
     "metadata": {},
     "output_type": "display_data"
    }
   ],
   "source": [
    "gpt3(\"Write a fable with animal characters and a moral about the importance of not interrupting.\")"
   ]
  },
  {
   "cell_type": "code",
   "execution_count": 15,
   "metadata": {},
   "outputs": [
    {
     "data": {
      "text/markdown": [
       "\n",
       "\n",
       "Once upon a time, a group of animals were sitting around discussing the importance of not interrupting. The lion, who was considered the king of the jungle, said, \"It's very important to not interrupt others. It's rude and it shows lack of respect.\" The other animals all nodded in agreement.\n",
       "\n",
       "The next day, the lion was in the middle of hunting a gazelle. The gazelle was running away from the lion, but the lion was gaining on it. Just as the lion was about to catch the gazelle, a small bird flew in front of the lion's face, distracting him. The gazelle was able to escape.\n",
       "\n",
       "The lion was very angry at the bird. He roared, \"How dare you interrupt me while I'm hunting! Don't you know it's rude and shows lack of respect?\"\n",
       "\n",
       "The bird calmly replied, \"Actually, I was just trying to help. I could see that you were about to catch the gazelle, but I knew if I distracted you, the gazelle would have a chance to escape. I thought you might want to know that interrupting can sometimes be a good thing.\"\n",
       "\n",
       "The lion was surprised by the bird's words."
      ],
      "text/plain": [
       "<IPython.core.display.Markdown object>"
      ]
     },
     "metadata": {},
     "output_type": "display_data"
    }
   ],
   "source": [
    "gpt3(\"\"\"> Write a fable with animal characters and a moral about the importance of not interrupting.\"\"\")"
   ]
  },
  {
   "cell_type": "code",
   "execution_count": null,
   "metadata": {},
   "outputs": [],
   "source": []
  }
 ],
 "metadata": {
  "kernelspec": {
   "display_name": "Python 3",
   "language": "python",
   "name": "python3"
  },
  "language_info": {
   "codemirror_mode": {
    "name": "ipython",
    "version": 3
   },
   "file_extension": ".py",
   "mimetype": "text/x-python",
   "name": "python",
   "nbconvert_exporter": "python",
   "pygments_lexer": "ipython3",
   "version": "3.7.4"
  }
 },
 "nbformat": 4,
 "nbformat_minor": 2
}
